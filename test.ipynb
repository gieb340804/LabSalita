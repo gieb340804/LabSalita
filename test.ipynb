{
 "cells": [
  {
   "cell_type": "code",
   "execution_count": 3,
   "metadata": {},
   "outputs": [
    {
     "name": "stdout",
     "output_type": "stream",
     "text": [
      "класс\n"
     ]
    }
   ],
   "source": [
    "class Point:\n",
    "    \"класс\"\n",
    "    color = \"red\"\n",
    "    circle = 2\n",
    "\n",
    "print(Point.__doc__)    \n"
   ]
  },
  {
   "cell_type": "code",
   "execution_count": 10,
   "metadata": {},
   "outputs": [
    {
     "name": "stdout",
     "output_type": "stream",
     "text": [
      "(1, 2)\n"
     ]
    }
   ],
   "source": [
    "class Point:\n",
    "    def set_sord(self, x ,y):\n",
    "        self.x = x\n",
    "        self.y = y\n",
    "\n",
    "    def get_cord(self):\n",
    "        return(self.x, self.y)\n",
    "\n",
    "pn = Point()\n",
    "pn.set_sord(1, 2)\n",
    "f = getattr(pn, 'get_cord')\n",
    "print(f())\n",
    "        "
   ]
  }
 ],
 "metadata": {
  "kernelspec": {
   "display_name": "Python 3",
   "language": "python",
   "name": "python3"
  },
  "language_info": {
   "codemirror_mode": {
    "name": "ipython",
    "version": 3
   },
   "file_extension": ".py",
   "mimetype": "text/x-python",
   "name": "python",
   "nbconvert_exporter": "python",
   "pygments_lexer": "ipython3",
   "version": "3.12.3"
  }
 },
 "nbformat": 4,
 "nbformat_minor": 2
}
