{
  "cells": [
    {
      "cell_type": "code",
      "execution_count": 2,
      "metadata": {
        "trusted": true
      },
      "outputs": [],
      "source": [
        "from point_impl import Point"
      ]
    },
    {
      "cell_type": "code",
      "execution_count": 3,
      "metadata": {
        "trusted": true
      },
      "outputs": [],
      "source": [
        "def gen_id(x, y):\n",
        "    return (x + y) * (x + y + 1) // 2 + y"
      ]
    },
    {
      "cell_type": "code",
      "execution_count": 24,
      "metadata": {
        "trusted": true
      },
      "outputs": [],
      "source": [
        "class Node:\n",
        "    def __init__(self, value, data=''):\n",
        "        self.value = value\n",
        "        self.left = None\n",
        "        self.right = None\n",
        "        self.height = 1\n",
        "        self.data = data\n",
        "\n",
        "class AVLTree:\n",
        "    def __init__(self, data=None):\n",
        "        self.root = None\n",
        "        if data != None:\n",
        "            self.insert(data)\n",
        "\n",
        "    def height(self, node):\n",
        "        if not node:\n",
        "            return 0\n",
        "        return node.height\n",
        "\n",
        "    def balance(self, node):\n",
        "        if not node:\n",
        "            return 0\n",
        "        return self.height(node.left) - self.height(node.right)\n",
        "\n",
        "    def insert_value(self, root, value, data):\n",
        "        if not root:\n",
        "            return Node(value, data)\n",
        "        elif value < root.value:\n",
        "            root.left = self.insert_value(root.left, value, data)\n",
        "        else:\n",
        "            root.right = self.insert_value(root.right, value, data)\n",
        "\n",
        "        root.height = 1 + max(self.height(root.left), self.height(root.right))\n",
        "        balance = self.balance(root)\n",
        "\n",
        "        # Left rotation\n",
        "        if balance > 1 and value < root.left.value:\n",
        "            return self.right_rotate(root)\n",
        "\n",
        "        # Right rotation\n",
        "        if balance < -1 and value > root.right.value:\n",
        "            return self.left_rotate(root)\n",
        "\n",
        "        # Left-Right rotation\n",
        "        if balance > 1 and value > root.left.value:\n",
        "            root.left = self.left_rotate(root.left)\n",
        "            return self.right_rotate(root)\n",
        "\n",
        "        # Right-Left rotation\n",
        "        if balance < -1 and value < root.right.value:\n",
        "            root.right = self.right_rotate(root.right)\n",
        "            return self.left_rotate(root)\n",
        "\n",
        "        return root\n",
        "\n",
        "    def delete(self, root, value):\n",
        "        if not root:\n",
        "            return root\n",
        "\n",
        "        if value < root.value:\n",
        "            root.left = self.delete(root.left, value)\n",
        "        elif value > root.value:\n",
        "            root.right = self.delete(root.right, value)\n",
        "        else:\n",
        "            if not root.left:\n",
        "                temp = root.right\n",
        "                root = None\n",
        "                return temp\n",
        "            elif not root.right:\n",
        "                temp = root.left\n",
        "                root = None\n",
        "                return temp\n",
        "\n",
        "            temp = self.min_value_node(root.right)\n",
        "            root.value = temp.value\n",
        "            root.right = self.delete(root.right, temp.value)\n",
        "\n",
        "        if not root:\n",
        "            return root\n",
        "\n",
        "        root.height = 1 + max(self.height(root.left), self.height(root.right))\n",
        "        balance = self.balance(root)\n",
        "\n",
        "        # Left rotation\n",
        "        if balance > 1 and self.balance(root.left) >= 0:\n",
        "            return self.right_rotate(root)\n",
        "\n",
        "        # Right rotation\n",
        "        if balance < -1 and self.balance(root.right) <= 0:\n",
        "            return self.left_rotate(root)\n",
        "\n",
        "        # Left-Right rotation\n",
        "        if balance > 1 and self.balance(root.left) < 0:\n",
        "            root.left = self.left_rotate(root.left)\n",
        "            return self.right_rotate(root)\n",
        "\n",
        "        # Right-Left rotation\n",
        "        if balance < -1 and self.balance(root.right) > 0:\n",
        "            root.right = self.right_rotate(root.right)\n",
        "            return self.left_rotate(root)\n",
        "\n",
        "        return root\n",
        "\n",
        "    def left_rotate(self, z):\n",
        "        y = z.right\n",
        "        T2 = y.left\n",
        "\n",
        "        y.left = z\n",
        "        z.right = T2\n",
        "\n",
        "        z.height = 1 + max(self.height(z.left), self.height(z.right))\n",
        "        y.height = 1 + max(self.height(y.left), self.height(y.right))\n",
        "\n",
        "        return y\n",
        "\n",
        "    def right_rotate(self, z):\n",
        "        y = z.left\n",
        "        T3 = y.right\n",
        "\n",
        "        y.right = z\n",
        "        z.left = T3\n",
        "\n",
        "        z.height = 1 + max(self.height(z.left), self.height(z.right))\n",
        "        y.height = 1 + max(self.height(y.left), self.height(y.right))\n",
        "\n",
        "        return y\n",
        "\n",
        "    def min_value_node(self, root):\n",
        "        current = root\n",
        "        while current.left:\n",
        "            current = current.left\n",
        "        return current\n",
        "\n",
        "    def find_value(self, root, value):\n",
        "        if not root or root.value == value:\n",
        "            return root\n",
        "        if root.value < value:\n",
        "            return self.find_value(root.right, value)\n",
        "        return self.find_value(root.left, value)\n",
        "\n",
        "    def insert_el(self, value, data=''):\n",
        "        self.root = self.insert_value(self.root, value, data)\n",
        "\n",
        "    def insert(self, els):\n",
        "        for i in els:\n",
        "            self.insert_el(gen_id(i.x, i.y), i)\n",
        "    \n",
        "    def delete_value(self, value):\n",
        "        self.root = self.delete(self.root, value)\n",
        "\n",
        "    def find(self, value):\n",
        "        return self.find_value(self.root, value)\n",
        "\n",
        "    def __contains__(self, item):\n",
        "        return True if self.find(gen_id(item.x, item.y)) != None else False\n",
        "\n",
        "    def find_length(self, root):\n",
        "        if not root:\n",
        "            return 0\n",
        "        return 1 + self.find_length(root.left) + self.find_length(root.right)\n",
        "    \n",
        "    def __len__(self):\n",
        "        return self.find_length(self.root)"
      ]
    },
    {
      "cell_type": "code",
      "execution_count": 25,
      "metadata": {
        "trusted": true
      },
      "outputs": [],
      "source": [
        "tr = AVLTree()"
      ]
    },
    {
      "cell_type": "code",
      "execution_count": 26,
      "metadata": {
        "trusted": true
      },
      "outputs": [
        {
          "data": {
            "text/plain": [
              "<__main__.AVLTree at 0x44234d8>"
            ]
          },
          "execution_count": 26,
          "metadata": {},
          "output_type": "execute_result"
        }
      ],
      "source": [
        "tr"
      ]
    },
    {
      "cell_type": "code",
      "execution_count": 27,
      "metadata": {
        "trusted": true
      },
      "outputs": [],
      "source": [
        "tr.insert([Point(5, 5), Point(5, 8), Point(5, 7)])"
      ]
    },
    {
      "cell_type": "code",
      "execution_count": 28,
      "metadata": {
        "trusted": true
      },
      "outputs": [],
      "source": [
        "x = tr.find(gen_id(5, 5))\n",
        "if x is None: print(0)"
      ]
    },
    {
      "cell_type": "code",
      "execution_count": 29,
      "metadata": {
        "trusted": true
      },
      "outputs": [
        {
          "data": {
            "text/plain": [
              "3"
            ]
          },
          "execution_count": 29,
          "metadata": {},
          "output_type": "execute_result"
        }
      ],
      "source": [
        "len(tr)"
      ]
    },
    {
      "cell_type": "code",
      "execution_count": 30,
      "metadata": {
        "trusted": true
      },
      "outputs": [
        {
          "data": {
            "text/plain": [
              "True"
            ]
          },
          "execution_count": 30,
          "metadata": {},
          "output_type": "execute_result"
        }
      ],
      "source": [
        "Point(5, 8) in tr"
      ]
    },
    {
      "cell_type": "code",
      "execution_count": 31,
      "metadata": {
        "trusted": true
      },
      "outputs": [],
      "source": [
        "f = Point(5, 8)"
      ]
    },
    {
      "cell_type": "code",
      "execution_count": 32,
      "metadata": {
        "trusted": true
      },
      "outputs": [],
      "source": [
        "tr.delete_value(gen_id(f.x, f.y))"
      ]
    },
    {
      "cell_type": "code",
      "execution_count": 33,
      "metadata": {
        "trusted": true
      },
      "outputs": [
        {
          "data": {
            "text/plain": [
              "False"
            ]
          },
          "execution_count": 33,
          "metadata": {},
          "output_type": "execute_result"
        }
      ],
      "source": [
        "Point(5, 8) in tr"
      ]
    },
    {
      "cell_type": "code",
      "execution_count": 34,
      "metadata": {
        "trusted": true
      },
      "outputs": [
        {
          "data": {
            "text/plain": [
              "2"
            ]
          },
          "execution_count": 34,
          "metadata": {},
          "output_type": "execute_result"
        }
      ],
      "source": [
        "len(tr)"
      ]
    },
    {
      "cell_type": "code",
      "execution_count": 35,
      "metadata": {
        "trusted": true
      },
      "outputs": [],
      "source": [
        "import numpy as np"
      ]
    },
    {
      "cell_type": "code",
      "execution_count": 36,
      "metadata": {
        "trusted": true
      },
      "outputs": [],
      "source": [
        "import matplotlib.pyplot as plt"
      ]
    },
    {
      "cell_type": "code",
      "execution_count": 37,
      "metadata": {
        "trusted": true
      },
      "outputs": [],
      "source": [
        "import timeit\n",
        "import math\n",
        "import random"
      ]
    },
    {
      "cell_type": "code",
      "execution_count": 44,
      "metadata": {
        "trusted": true
      },
      "outputs": [],
      "source": [
        "plt.rcParams['figure.figsize'] = [10, 6]\n",
        "\n",
        "def perform_bench(type_of_bench):\n",
        "    if type_of_bench == 'insert':\n",
        "        ns = np.linspace(0, 100_000, 10, dtype=int)\n",
        "        ts = [timeit.timeit('tr.insert([Point({}, {})])'.format(n, n + 1), \n",
        "                            setup='tr = AVLTree([Point(i, i + 1) for i in range({})])'.format(n),\n",
        "                            globals=globals(),\n",
        "                            number=1000)\n",
        "          for n in ns]\n",
        "    elif type_of_bench == 'delete':\n",
        "        ns = np.linspace(0, 100_000, 10, dtype=int)\n",
        "        ts = [timeit.timeit('tr.delete_value(gen_id(Point({}, {}).x, Point({}, {}).y))'.format(n - 2, n - 1, n - 2, n - 1), \n",
        "                            setup='tr = AVLTree([Point(i, i + 1) for i in range({})])'.format(n),\n",
        "                            globals=globals(),\n",
        "                            number=1000)\n",
        "          for n in ns]\n",
        "    elif type_of_bench == 'find':\n",
        "        ns = np.linspace(0, 100_000, 10, dtype=int)\n",
        "        ts = [timeit.timeit('tr.find(gen_id(0, 1))'.format(''), \n",
        "                            setup='tr = AVLTree([Point(i, i + 1) for i in range({})])'.format(n),\n",
        "                            globals=globals(),\n",
        "                            number=1000)\n",
        "          for n in ns]\n",
        "    elif type_of_bench == 'contains':\n",
        "        ns = np.linspace(0, 100_000, 10, dtype=int)\n",
        "        ts = [timeit.timeit('Point(0, 1) in tr'.format(''), \n",
        "                            setup='tr = AVLTree([Point(i, i + 1) for i in range({})])'.format(n),\n",
        "                            globals=globals(),\n",
        "                            number=1000)\n",
        "          for n in ns]\n",
        "    \n",
        "    plt.plot(ns, ts, 'or')\n",
        "    \n",
        "    degree = 4\n",
        "    coeffs = np.polyfit(ns, ts, degree)\n",
        "    p = np.poly1d(coeffs)\n",
        "    plt.plot(ns, [p(n) for n in ns], '-b')"
      ]
    },
    {
      "cell_type": "code",
      "execution_count": 1,
      "metadata": {
        "trusted": true
      },
      "outputs": [
        {
          "ename": "NameError",
          "evalue": "name 'perform_bench' is not defined",
          "output_type": "error",
          "traceback": [
            "\u001b[1;31m---------------------------------------------------------------------------\u001b[0m",
            "\u001b[1;31mNameError\u001b[0m                                 Traceback (most recent call last)",
            "Cell \u001b[1;32mIn[1], line 1\u001b[0m\n\u001b[1;32m----> 1\u001b[0m \u001b[43mperform_bench\u001b[49m(\u001b[38;5;124m'\u001b[39m\u001b[38;5;124minsert\u001b[39m\u001b[38;5;124m'\u001b[39m)\n",
            "\u001b[1;31mNameError\u001b[0m: name 'perform_bench' is not defined"
          ]
        }
      ],
      "source": [
        "perform_bench('insert')"
      ]
    },
    {
      "cell_type": "code",
      "execution_count": 45,
      "metadata": {
        "trusted": true
      },
      "outputs": [
        {
          "data": {
            "image/png": "[encoded data removed]",
            "text/plain": [
              "<Figure size 1000x600 with 1 Axes>"
            ]
          },
          "metadata": {},
          "output_type": "display_data"
        }
      ],
      "source": [
        "perform_bench('find')"
      ]
    },
    {
      "cell_type": "code",
      "execution_count": 46,
      "metadata": {
        "trusted": true
      },
      "outputs": [
        {
          "data": {
            "image/png": "[encoded data removed]",
            "text/plain": [
              "<Figure size 1000x600 with 1 Axes>"
            ]
          },
          "metadata": {},
          "output_type": "display_data"
        }
      ],
      "source": [
        "perform_bench('contains')"
      ]
    },
    {
      "cell_type": "code",
      "execution_count": 47,
      "metadata": {
        "trusted": true
      },
      "outputs": [
        {
          "data": {
            "image/png": "[encoded data removed]",
            "text/plain": [
              "<Figure size 1000x600 with 1 Axes>"
            ]
          },
          "metadata": {},
          "output_type": "display_data"
        }
      ],
      "source": [
        "perform_bench('delete')"
      ]
    }
  ],
  "metadata": {
    "kernelspec": {
      "display_name": "Python 3",
      "language": "python",
      "name": "python3"
    },
    "language_info": {
      "codemirror_mode": {
        "name": "ipython",
        "version": 3
      },
      "file_extension": ".py",
      "mimetype": "text/x-python",
      "name": "python",
      "nbconvert_exporter": "python",
      "pygments_lexer": "ipython3",
      "version": "3.12.3"
    }
  },
  "nbformat": 4,
  "nbformat_minor": 4
}
