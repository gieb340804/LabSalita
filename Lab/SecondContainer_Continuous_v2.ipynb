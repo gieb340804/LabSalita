{
  "cells": [
    {
      "cell_type": "code",
      "execution_count": 4,
      "metadata": {
        "trusted": true
      },
      "outputs": [],
      "source": [
        "from point_impl import Point"
      ]
    },
    {
      "cell_type": "code",
      "execution_count": 5,
      "metadata": {
        "trusted": true
      },
      "outputs": [],
      "source": [
        "def gen_id(x, y):\n",
        "    return (x + y) * (x + y + 1) // 2 + y"
      ]
    },
    {
      "cell_type": "code",
      "execution_count": 350,
      "metadata": {
        "trusted": true
      },
      "outputs": [],
      "source": [
        "class Node:\n",
        "    def __init__(self, value, data=''):\n",
        "        self.value = value\n",
        "        self.left = None\n",
        "        self.right = None\n",
        "        self.height = 1\n",
        "        self.data = data\n",
        "\n",
        "class AVLTree:\n",
        "    '''AVLTree container is tree-type data structure with best time-complexity'''\n",
        "    # maybe work\n",
        "    def __init__(self, *data):\n",
        "        self.index = 0\n",
        "        self.root_id = 0\n",
        "        self.nodes = [None]\n",
        "        if data != None:\n",
        "            for el in data:\n",
        "                self.insert(el)\n",
        "\n",
        "    # maybe work\n",
        "    def traverse(self, node, save):\n",
        "        if node == None or self.nodes[node] == None: return\n",
        "        save.append((self.nodes[node].value, self.nodes[node].data))\n",
        "        self.traverse(self.nodes[node].left, save)\n",
        "        self.traverse(self.nodes[node].right, save)\n",
        "\n",
        "    # maybe work\n",
        "    def __repr__(self):\n",
        "        l = []\n",
        "        self.traverse(self.root_id, l)\n",
        "        return ''.join(str(l))\n",
        "\n",
        "    # maybe work\n",
        "    def __str__(self):\n",
        "        l = []\n",
        "        self.traverse(self.root_id, l)\n",
        "        return f'Class SecondContainer with {len(self)} nodes.'\n",
        "\n",
        "    # maybe work\n",
        "    def height(self, node):\n",
        "        if not node or not self.nodes[node]:\n",
        "            return 0\n",
        "        return self.nodes[node].height\n",
        "\n",
        "    # maybe work\n",
        "    def balance(self, node):\n",
        "        if node == None or self.nodes[node] == None:\n",
        "            return 0\n",
        "        return self.height(self.nodes[node].left) - self.height(self.nodes[node].right)\n",
        "\n",
        "    # maybe work\n",
        "    def insert_value(self, root, value, data):\n",
        "        if not root or not self.nodes[root]:\n",
        "            ret_index = len(self.nodes)\n",
        "            self.nodes.append(Node(value, data))\n",
        "            return ret_index\n",
        "        elif value < self.nodes[root].value:\n",
        "            self.nodes[root].left = self.insert_value(self.nodes[root].left, value, data)\n",
        "        else:\n",
        "            self.nodes[root].right = self.insert_value(self.nodes[root].right, value, data)\n",
        "\n",
        "        self.nodes[root].height = 1 + max(self.height(self.nodes[root].left), self.height(self.nodes[root].right))\n",
        "        balance = self.balance(root)\n",
        "\n",
        "        # Left rotation\n",
        "        if balance > 1 and value < self.nodes[self.nodes[root].left].value:\n",
        "            return self.right_rotate(root)\n",
        "\n",
        "        # Right rotation\n",
        "        if balance < -1 and value > self.nodes[self.nodes[root].right].value:\n",
        "            return self.left_rotate(root)\n",
        "\n",
        "        # Left-Right rotation\n",
        "        if balance > 1 and value > self.nodes[self.nodes[root].left].value:\n",
        "            self.nodes[root].left = self.left_rotate(self.nodes[root].left)\n",
        "            return self.right_rotate(root)\n",
        "\n",
        "        # Right-Left rotation\n",
        "        if balance < -1 and value < self.nodes[self.nodes[root].right].value:\n",
        "            self.nodes[root].right = self.right_rotate(self.nodes[root].right)\n",
        "            return self.left_rotate(root)\n",
        "\n",
        "        return root\n",
        "\n",
        "    def delete(self, root, value):\n",
        "        if root == None or self.nodes[root] == None:\n",
        "            return root\n",
        "\n",
        "        if value < self.nodes[root].value:\n",
        "            self.nodes[root].left = self.delete(self.nodes[root].left, value)\n",
        "        elif value > self.nodes[root].value:\n",
        "            self.nodes[root].right = self.delete(self.nodes[root].right, value)\n",
        "        else:\n",
        "            if self.nodes[root].left == None or self.nodes[self.nodes[root].left] == None:\n",
        "                temp = self.nodes[root].right\n",
        "                self.nodes[root] = None\n",
        "                return temp\n",
        "            elif self.nodes[root].right == None or self.nodes[self.nodes[root].right] == None:\n",
        "                temp = self.nodes[root].left\n",
        "                self.nodes[root] = None\n",
        "                return temp\n",
        "\n",
        "            temp = self.min_value_node(self.nodes[root].right)\n",
        "            self.nodes[root].value = self.nodes[temp].value\n",
        "            self.nodes[root].data = self.nodes[temp].data\n",
        "            self.nodes[root].right = self.delete(self.nodes[root].right, self.nodes[temp].value)\n",
        "\n",
        "        if root == None or self.nodes[root] == None:\n",
        "            return root\n",
        "\n",
        "        self.nodes[root].height = 1 + max(self.height(self.nodes[root].left), self.height(self.nodes[root].right))\n",
        "        balance = self.balance(root)\n",
        "\n",
        "        # Left rotation\n",
        "        if balance > 1 and self.balance(self.nodes[root].left) >= 0:\n",
        "            return self.right_rotate(root)\n",
        "\n",
        "        # Right rotation\n",
        "        if balance < -1 and self.balance(self.nodes[root].right) <= 0:\n",
        "            return self.left_rotate(root)\n",
        "\n",
        "        # Left-Right rotation\n",
        "        if balance > 1 and self.balance(self.nodes[root].left) < 0:\n",
        "            self.nodes[root].left = self.left_rotate(self.nodes[root].left)\n",
        "            return self.right_rotate(root)\n",
        "\n",
        "        # Right-Left rotation\n",
        "        if balance < -1 and self.balance(self.nodes[root].right) > 0:\n",
        "            self.nodes[root].right = self.right_rotate(self.nodes[root].right)\n",
        "            return self.left_rotate(root)\n",
        "\n",
        "        return root\n",
        "\n",
        "    # myabe work\n",
        "    def left_rotate(self, z):\n",
        "        y = self.nodes[z].right\n",
        "        T2 = self.nodes[y].left\n",
        "\n",
        "        self.nodes[y].left = z\n",
        "        self.nodes[z].right = T2\n",
        "\n",
        "        self.nodes[z].height = 1 + max(self.height(self.nodes[z].left), self.height(self.nodes[z].right))\n",
        "        self.nodes[y].height = 1 + max(self.height(self.nodes[y].left), self.height(self.nodes[y].right))\n",
        "\n",
        "        return y\n",
        "\n",
        "    # myabe work\n",
        "    def right_rotate(self, z):\n",
        "        y = self.nodes[z].left\n",
        "        T3 = self.nodes[y].right\n",
        "\n",
        "        self.nodes[y].right = z\n",
        "        self.nodes[z].left = T3\n",
        "\n",
        "        self.nodes[z].height = 1 + max(self.height(self.nodes[z].left), self.height(self.nodes[z].right))\n",
        "        self.nodes[y].height = 1 + max(self.height(self.nodes[y].left), self.height(self.nodes[y].right))\n",
        "\n",
        "        return y\n",
        "\n",
        "    # myabe work [!!]\n",
        "    def min_value_node(self, root):\n",
        "        current = root\n",
        "        while self.nodes[current].left:\n",
        "            current = self.nodes[current].left\n",
        "        return current\n",
        "\n",
        "    # maybe work\n",
        "    def find_value(self, root, value):\n",
        "        if root == None or self.nodes[root] == None:\n",
        "            return len(self.nodes)\n",
        "        if self.nodes[root].value == value:\n",
        "            return root\n",
        "        if self.nodes[root].value < value:\n",
        "            return self.find_value(self.nodes[root].right, value)\n",
        "        return self.find_value(self.nodes[root].left, value)\n",
        "\n",
        "    # myabe work\n",
        "    def insert_el(self, value, data=''):\n",
        "        self.root_id = self.insert_value(self.root_id, value, data)\n",
        "\n",
        "    # myabe work\n",
        "    def insert(self, els):\n",
        "        if not isinstance(els, list):\n",
        "            self.insert_el(gen_id(els.x, els.y), els)\n",
        "            return\n",
        "        for i in els:\n",
        "            self.insert_el(gen_id(i.x, i.y), i)\n",
        "    \n",
        "    def delete_value(self, value):\n",
        "        self.root_id = self.delete(self.root_id, value)\n",
        "\n",
        "    # maybe work\n",
        "    def find(self, el):\n",
        "        if isinstance(el, Point):\n",
        "            return self.find_value(self.root_id, gen_id(el.x, el.y))\n",
        "        else:\n",
        "            return self.find_value(self.root_id, el)\n",
        "\n",
        "    # maybe work\n",
        "    def __contains__(self, item):\n",
        "        return True if self.find(gen_id(item.x, item.y)) != len(self.nodes) else False\n",
        "\n",
        "    # maybe work\n",
        "    def find_length(self, root):\n",
        "        if root == None or not self.nodes[root]:\n",
        "            return 0\n",
        "        return 1 + self.find_length(self.nodes[root].left) + self.find_length(self.nodes[root].right)\n",
        "\n",
        "    # maybe work\n",
        "    def __len__(self):\n",
        "        return self.find_length(self.root_id)\n",
        "\n",
        "    # maybe work\n",
        "    def __getitem__(self, unique_id):\n",
        "        return self.nodes[self.find(unique_id)].data\n",
        "\n",
        "    # myabe work\n",
        "    def __setitem__(self, index, value):\n",
        "        pass\n",
        "\n",
        "    # myabe work\n",
        "    def __iter__(self):\n",
        "        return self\n",
        "\n",
        "    # myabe work\n",
        "    def __next__(self):\n",
        "        if self.index == len(self):\n",
        "            raise StopIteration\n",
        "        temp_l = []\n",
        "        self.traverse(self.root_id, temp_l)\n",
        "        data_to_ret = temp_l[self.index]\n",
        "        self.index = self.index + 1\n",
        "        return data_to_ret\n",
        "    \n",
        "    # maybe work\n",
        "    def __delitem__(self, unique_id):\n",
        "        self.delete_value(unique_id)"
      ]
    },
    {
      "cell_type": "markdown",
      "metadata": {},
      "source": [
        "Class tests below:\n",
        "    - deletion (by index): passed\n",
        "    - insertion (list of Point instances): passed\n",
        "    - find (return index of element or len(container) if no element): passed\n",
        "    - contains (find on steroids): passed\n",
        "    - len (return number of elements in container): passed\n",
        "    - str: passed\n",
        "    - repr (some tech-info): passed\n",
        "    - getitem (by index): passed\n",
        "    - iter with next: passed"
      ]
    },
    {
      "cell_type": "code",
      "execution_count": 351,
      "metadata": {
        "trusted": true
      },
      "outputs": [],
      "source": [
        "# Init\n",
        "tr = AVLTree(Point(100, 120), Point(5, 5), Point(12, 60))"
      ]
    },
    {
      "cell_type": "code",
      "execution_count": 352,
      "metadata": {
        "trusted": true
      },
      "outputs": [
        {
          "data": {
            "text/plain": [
              "[(2688, classic class representation: x=12 and y=60. wow), (60, classic class representation: x=5 and y=5. wow), (24430, classic class representation: x=100 and y=120. wow)]"
            ]
          },
          "execution_count": 352,
          "metadata": {},
          "output_type": "execute_result"
        }
      ],
      "source": [
        "tr"
      ]
    },
    {
      "cell_type": "code",
      "execution_count": 353,
      "metadata": {
        "trusted": true
      },
      "outputs": [
        {
          "name": "stdout",
          "output_type": "stream",
          "text": [
            "Class SecondContainer with 3 nodes.\n"
          ]
        },
        {
          "data": {
            "text/plain": [
              "[(2688, classic class representation: x=12 and y=60. wow), (60, classic class representation: x=5 and y=5. wow), (24430, classic class representation: x=100 and y=120. wow)]"
            ]
          },
          "execution_count": 353,
          "metadata": {},
          "output_type": "execute_result"
        }
      ],
      "source": [
        "# str() and representation\n",
        "print(str(tr))\n",
        "tr"
      ]
    },
    {
      "cell_type": "code",
      "execution_count": 354,
      "metadata": {
        "trusted": true
      },
      "outputs": [
        {
          "data": {
            "text/plain": [
              "3"
            ]
          },
          "execution_count": 354,
          "metadata": {},
          "output_type": "execute_result"
        }
      ],
      "source": [
        "# len\n",
        "len(tr)"
      ]
    },
    {
      "cell_type": "code",
      "execution_count": 355,
      "metadata": {
        "trusted": true
      },
      "outputs": [
        {
          "data": {
            "text/plain": [
              "(classic class representation: x=5 and y=5. wow, point_impl.Point)"
            ]
          },
          "execution_count": 355,
          "metadata": {},
          "output_type": "execute_result"
        }
      ],
      "source": [
        "# getitem\n",
        "tr[60], type(tr[60])"
      ]
    },
    {
      "cell_type": "code",
      "execution_count": 356,
      "metadata": {
        "trusted": true
      },
      "outputs": [
        {
          "name": "stdout",
          "output_type": "stream",
          "text": [
            "(2688, classic class representation: x=12 and y=60. wow)\n",
            "(60, classic class representation: x=5 and y=5. wow)\n",
            "(24430, classic class representation: x=100 and y=120. wow)\n"
          ]
        }
      ],
      "source": [
        "# iterator with next()\n",
        "tr_it = iter(tr)\n",
        "if tr_it is not None:\n",
        "    print(next(tr_it))\n",
        "    print(next(tr_it))\n",
        "    print(next(tr_it))"
      ]
    },
    {
      "cell_type": "code",
      "execution_count": 359,
      "metadata": {
        "trusted": true
      },
      "outputs": [
        {
          "data": {
            "text/plain": [
              "[(4358, classic class representation: x=12 and y=80. wow), (2688, classic class representation: x=12 and y=60. wow), (60, classic class representation: x=5 and y=5. wow), (24430, classic class representation: x=100 and y=120. wow), (4358, classic class representation: x=12 and y=80. wow), (4358, classic class representation: x=12 and y=80. wow)]"
            ]
          },
          "execution_count": 359,
          "metadata": {},
          "output_type": "execute_result"
        }
      ],
      "source": [
        "# insertion\n",
        "tr.insert(Point(12, 80))\n",
        "tr"
      ]
    },
    {
      "cell_type": "code",
      "execution_count": 362,
      "metadata": {
        "trusted": true
      },
      "outputs": [
        {
          "data": {
            "text/plain": [
              "[(2688, classic class representation: x=12 and y=60. wow), (60, classic class representation: x=5 and y=5. wow), (24430, classic class representation: x=100 and y=120. wow)]"
            ]
          },
          "execution_count": 362,
          "metadata": {},
          "output_type": "execute_result"
        }
      ],
      "source": [
        "# deletion\n",
        "del tr[gen_id(12, 80)]\n",
        "tr"
      ]
    },
    {
      "cell_type": "code",
      "execution_count": 363,
      "metadata": {
        "trusted": true
      },
      "outputs": [
        {
          "data": {
            "text/plain": [
              "classic class representation: x=100 and y=120. wow"
            ]
          },
          "execution_count": 363,
          "metadata": {},
          "output_type": "execute_result"
        }
      ],
      "source": [
        "tr.nodes[4].data"
      ]
    },
    {
      "cell_type": "code",
      "execution_count": 220,
      "metadata": {
        "trusted": true
      },
      "outputs": [
        {
          "data": {
            "text/plain": [
              "[(2688, classic class representation: x=12 and y=60. wow), (60, classic class representation: x=5 and y=5. wow), (24430, classic class representation: x=12 and y=80. wow)]"
            ]
          },
          "execution_count": 220,
          "metadata": {},
          "output_type": "execute_result"
        }
      ],
      "source": [
        "tr"
      ]
    },
    {
      "cell_type": "code",
      "execution_count": 364,
      "metadata": {
        "trusted": true
      },
      "outputs": [
        {
          "name": "stdout",
          "output_type": "stream",
          "text": [
            "find point in class: 3\n",
            "find point not in class: 7\n",
            "len of class nodes list: 7\n",
            "___________________________\n",
            "contains (point in class): True\n",
            "contains (point not in class): False\n"
          ]
        }
      ],
      "source": [
        "# find and contains\n",
        "print(f'''\n",
        "find point in class: {tr.find(Point(12, 60))}\n",
        "find point not in class: {tr.find(Point(1021, 10))}\n",
        "len of class nodes list: {len(tr.nodes)}\n",
        "___________________________\n",
        "contains (point in class): {Point(12, 60) in tr}\n",
        "contains (point not in class): {Point(12123, 62012) in tr}\n",
        "'''.strip())"
      ]
    },
    {
      "cell_type": "code",
      "execution_count": 365,
      "metadata": {
        "trusted": true
      },
      "outputs": [],
      "source": [
        "import numpy as np"
      ]
    },
    {
      "cell_type": "code",
      "execution_count": 366,
      "metadata": {
        "trusted": true
      },
      "outputs": [],
      "source": [
        "import matplotlib.pyplot as plt"
      ]
    },
    {
      "cell_type": "code",
      "execution_count": 367,
      "metadata": {
        "trusted": true
      },
      "outputs": [],
      "source": [
        "import timeit\n",
        "import math\n",
        "import random"
      ]
    },
    {
      "cell_type": "code",
      "execution_count": 375,
      "metadata": {
        "trusted": true
      },
      "outputs": [],
      "source": [
        "plt.rcParams['figure.figsize'] = [10, 6]\n",
        "\n",
        "def perform_bench(type_of_bench):\n",
        "    if type_of_bench == 'insert':\n",
        "        ns = np.linspace(0, 100_000, 100, dtype=int)\n",
        "        ts = [timeit.timeit('tr.insert([Point({}, {})])'.format(n, n + 1), \n",
        "                            setup='tr = AVLTree([Point(i, i + 1) for i in range({})])'.format(n),\n",
        "                            globals=globals(),\n",
        "                            number=2000)\n",
        "          for n in ns]\n",
        "    elif type_of_bench == 'delete':\n",
        "        ns = np.linspace(0, 100_000, 10, dtype=int)\n",
        "        ts = [timeit.timeit('tr.delete_value(gen_id(Point({}, {}).x, Point({}, {}).y))'.format(n - 2, n - 1, n - 2, n - 1), \n",
        "                            setup='tr = AVLTree([Point(i, i + 1) for i in range({})])'.format(n),\n",
        "                            globals=globals(),\n",
        "                            number=1000)\n",
        "          for n in ns]\n",
        "    elif type_of_bench == 'find':\n",
        "        ns = np.linspace(0, 100_000, 10, dtype=int)\n",
        "        ts = [timeit.timeit('tr.find(gen_id(0, 1))'.format(''), \n",
        "                            setup='tr = AVLTree([Point(i, i + 1) for i in range({})])'.format(n),\n",
        "                            globals=globals(),\n",
        "                            number=1000)\n",
        "          for n in ns]\n",
        "    elif type_of_bench == 'contains':\n",
        "        ns = np.linspace(0, 100_000, 10, dtype=int)\n",
        "        ts = [timeit.timeit('Point(0, 1) in tr'.format(''), \n",
        "                            setup='tr = AVLTree([Point(i, i + 1) for i in range({})])'.format(n),\n",
        "                            globals=globals(),\n",
        "                            number=2000)\n",
        "          for n in ns]\n",
        "    \n",
        "    plt.plot(ns, ts, 'or')\n",
        "    \n",
        "    degree = 4\n",
        "    coeffs = np.polyfit(ns, ts, degree)\n",
        "    p = np.poly1d(coeffs)\n",
        "    plt.plot(ns, [p(n) for n in ns], '-b')"
      ]
    },
    {
      "cell_type": "code",
      "execution_count": 63,
      "metadata": {
        "trusted": true
      },
      "outputs": [
        {
          "data": {
            "image/png": "[encoded data removed]",
            "text/plain": [
              "<Figure size 1000x600 with 1 Axes>"
            ]
          },
          "metadata": {},
          "output_type": "display_data"
        }
      ],
      "source": [
        "perform_bench('insert')"
      ]
    },
    {
      "cell_type": "code",
      "execution_count": 1,
      "metadata": {
        "trusted": true
      },
      "outputs": [
        {
          "ename": "NameError",
          "evalue": "name 'perform_bench' is not defined",
          "output_type": "error",
          "traceback": [
            "\u001b[1;31m---------------------------------------------------------------------------\u001b[0m",
            "\u001b[1;31mNameError\u001b[0m                                 Traceback (most recent call last)",
            "Cell \u001b[1;32mIn[1], line 1\u001b[0m\n\u001b[1;32m----> 1\u001b[0m \u001b[43mperform_bench\u001b[49m(\u001b[38;5;124m'\u001b[39m\u001b[38;5;124mfind\u001b[39m\u001b[38;5;124m'\u001b[39m)\n",
            "\u001b[1;31mNameError\u001b[0m: name 'perform_bench' is not defined"
          ]
        }
      ],
      "source": [
        "perform_bench('find')"
      ]
    },
    {
      "cell_type": "code",
      "execution_count": 376,
      "metadata": {
        "trusted": true
      },
      "outputs": [
        {
          "data": {
            "image/png": "[encoded data removed]",
            "text/plain": [
              "<Figure size 1000x600 with 1 Axes>"
            ]
          },
          "metadata": {},
          "output_type": "display_data"
        }
      ],
      "source": [
        "perform_bench('contains')"
      ]
    },
    {
      "cell_type": "code",
      "execution_count": 371,
      "metadata": {
        "trusted": true
      },
      "outputs": [
        {
          "data": {
            "image/png": "[encoded data removed]",
            "text/plain": [
              "<Figure size 1000x600 with 1 Axes>"
            ]
          },
          "metadata": {},
          "output_type": "display_data"
        }
      ],
      "source": [
        "perform_bench('delete')"
      ]
    }
  ],
  "metadata": {
    "kernelspec": {
      "display_name": "Python 3",
      "language": "python",
      "name": "python3"
    },
    "language_info": {
      "codemirror_mode": {
        "name": "ipython",
        "version": 3
      },
      "file_extension": ".py",
      "mimetype": "text/x-python",
      "name": "python",
      "nbconvert_exporter": "python",
      "pygments_lexer": "ipython3",
      "version": "3.12.3"
    }
  },
  "nbformat": 4,
  "nbformat_minor": 4
}
