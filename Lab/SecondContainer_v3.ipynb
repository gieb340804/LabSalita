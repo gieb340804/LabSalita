{
  "cells": [
    {
      "cell_type": "code",
      "execution_count": 1,
      "metadata": {
        "trusted": true
      },
      "outputs": [],
      "source": [
        "from point_impl import Point"
      ]
    },
    {
      "cell_type": "code",
      "execution_count": 2,
      "metadata": {
        "trusted": true
      },
      "outputs": [],
      "source": [
        "def gen_id(x, y):\n",
        "    return (x + y) * (x + y + 1) // 2 + y"
      ]
    },
    {
      "cell_type": "code",
      "execution_count": 63,
      "metadata": {
        "trusted": true
      },
      "outputs": [],
      "source": [
        "class Node:\n",
        "    def __init__(self, value, data=''):\n",
        "        self.value = value\n",
        "        self.left = None\n",
        "        self.right = None\n",
        "        self.height = 1\n",
        "        self.data = data\n",
        "\n",
        "class AVLTree:\n",
        "    '''AVLTree container is tree-type data structure with best time-complexity'''\n",
        "    def __init__(self, *data):\n",
        "        self.root = None\n",
        "        self.index = 0\n",
        "        if data != None:\n",
        "            for el in data:\n",
        "                self.insert(el)\n",
        "\n",
        "    def traverse(self, node, save):\n",
        "        if not node: return\n",
        "        save.append((node.value, node.data))\n",
        "        self.traverse(node.left, save)\n",
        "        self.traverse(node.right, save)\n",
        "    \n",
        "    def __repr__(self):\n",
        "        l = []\n",
        "        self.traverse(self.root, l)\n",
        "        return ''.join(str(l))\n",
        "        \n",
        "    def __str__(self):\n",
        "        l = []\n",
        "        self.traverse(self.root, l)\n",
        "        return f'Class SecondContainer with {len(self)} nodes.'\n",
        "\n",
        "    def height(self, node):\n",
        "        if not node:\n",
        "            return 0\n",
        "        return node.height\n",
        "\n",
        "    def balance(self, node):\n",
        "        if not node:\n",
        "            return 0\n",
        "        return self.height(node.left) - self.height(node.right)\n",
        "\n",
        "    def insert_value(self, root, value, data):\n",
        "        if not root:\n",
        "            return Node(value, data)\n",
        "        elif value < root.value:\n",
        "            root.left = self.insert_value(root.left, value, data)\n",
        "        else:\n",
        "            root.right = self.insert_value(root.right, value, data)\n",
        "\n",
        "        root.height = 1 + max(self.height(root.left), self.height(root.right))\n",
        "        balance = self.balance(root)\n",
        "\n",
        "        # Left rotation\n",
        "        if balance > 1 and value < root.left.value:\n",
        "            return self.right_rotate(root)\n",
        "\n",
        "        # Right rotation\n",
        "        if balance < -1 and value > root.right.value:\n",
        "            return self.left_rotate(root)\n",
        "\n",
        "        # Left-Right rotation\n",
        "        if balance > 1 and value > root.left.value:\n",
        "            root.left = self.left_rotate(root.left)\n",
        "            return self.right_rotate(root)\n",
        "\n",
        "        # Right-Left rotation\n",
        "        if balance < -1 and value < root.right.value:\n",
        "            root.right = self.right_rotate(root.right)\n",
        "            return self.left_rotate(root)\n",
        "\n",
        "        return root\n",
        "\n",
        "    def delete(self, root, value):\n",
        "        if not root:\n",
        "            return root\n",
        "\n",
        "        if value < root.value:\n",
        "            root.left = self.delete(root.left, value)\n",
        "        elif value > root.value:\n",
        "            root.right = self.delete(root.right, value)\n",
        "        else:\n",
        "            if not root.left:\n",
        "                temp = root.right\n",
        "                root = None\n",
        "                return temp\n",
        "            elif not root.right:\n",
        "                temp = root.left\n",
        "                root = None\n",
        "                return temp\n",
        "\n",
        "            temp = self.min_value_node(root.right)\n",
        "            root.value = temp.value\n",
        "            root.right = self.delete(root.right, temp.value)\n",
        "\n",
        "        if not root:\n",
        "            return root\n",
        "\n",
        "        root.height = 1 + max(self.height(root.left), self.height(root.right))\n",
        "        balance = self.balance(root)\n",
        "\n",
        "        # Left rotation\n",
        "        if balance > 1 and self.balance(root.left) >= 0:\n",
        "            return self.right_rotate(root)\n",
        "\n",
        "        # Right rotation\n",
        "        if balance < -1 and self.balance(root.right) <= 0:\n",
        "            return self.left_rotate(root)\n",
        "\n",
        "        # Left-Right rotation\n",
        "        if balance > 1 and self.balance(root.left) < 0:\n",
        "            root.left = self.left_rotate(root.left)\n",
        "            return self.right_rotate(root)\n",
        "\n",
        "        # Right-Left rotation\n",
        "        if balance < -1 and self.balance(root.right) > 0:\n",
        "            root.right = self.right_rotate(root.right)\n",
        "            return self.left_rotate(root)\n",
        "\n",
        "        return root\n",
        "\n",
        "    def left_rotate(self, z):\n",
        "        y = z.right\n",
        "        T2 = y.left\n",
        "\n",
        "        y.left = z\n",
        "        z.right = T2\n",
        "\n",
        "        z.height = 1 + max(self.height(z.left), self.height(z.right))\n",
        "        y.height = 1 + max(self.height(y.left), self.height(y.right))\n",
        "\n",
        "        return y\n",
        "\n",
        "    def right_rotate(self, z):\n",
        "        y = z.left\n",
        "        T3 = y.right\n",
        "\n",
        "        y.right = z\n",
        "        z.left = T3\n",
        "\n",
        "        z.height = 1 + max(self.height(z.left), self.height(z.right))\n",
        "        y.height = 1 + max(self.height(y.left), self.height(y.right))\n",
        "\n",
        "        return y\n",
        "\n",
        "    def min_value_node(self, root):\n",
        "        current = root\n",
        "        while current.left:\n",
        "            current = current.left\n",
        "        return current\n",
        "\n",
        "    def find_value(self, root, value):\n",
        "        if not root or root.value == value:\n",
        "            return root\n",
        "        if root.value < value:\n",
        "            return self.find_value(root.right, value)\n",
        "        return self.find_value(root.left, value)\n",
        "\n",
        "    def insert_el(self, value, data=''):\n",
        "        self.root = self.insert_value(self.root, value, data)\n",
        "\n",
        "    def insert(self, els):\n",
        "        if not isinstance(els, list):\n",
        "            self.insert_el(gen_id(els.x, els.y), els)\n",
        "            return\n",
        "        for i in els:\n",
        "            self.insert_el(gen_id(i.x, i.y), i)\n",
        "    \n",
        "    def delete_value(self, value):\n",
        "        self.root = self.delete(self.root, value)\n",
        "\n",
        "    def find(self, el):\n",
        "        if isinstance(el, Point):\n",
        "            return self.find_value(self.root, gen_id(el.x, el.y))\n",
        "        else:\n",
        "            return self.find_value(self.root, el)\n",
        "\n",
        "    def __contains__(self, item):\n",
        "        return True if self.find(gen_id(item.x, item.y)) != None else False\n",
        "\n",
        "    def find_length(self, root):\n",
        "        if not root:\n",
        "            return 0\n",
        "        return 1 + self.find_length(root.left) + self.find_length(root.right)\n",
        "    \n",
        "    def __len__(self):\n",
        "        return self.find_length(self.root)\n",
        "\n",
        "    def __getitem__(self, unique_id):\n",
        "        return self.find(unique_id)\n",
        "\n",
        "    def __setitem__(self, index, value):\n",
        "        pass\n",
        "\n",
        "    def __iter__(self):\n",
        "        return self\n",
        "\n",
        "    def __next__(self):\n",
        "        if self.index == len(self):\n",
        "            raise StopIteration\n",
        "        temp_l = []\n",
        "        self.traverse(self.root, temp_l)\n",
        "        data_to_ret = temp_l[self.index]\n",
        "        self.index = self.index + 1\n",
        "        return data_to_ret\n",
        "\n",
        "    def __delitem__(self, unique_id):\n",
        "        self.delete_value(unique_id)"
      ]
    },
    {
      "cell_type": "markdown",
      "metadata": {},
      "source": [
        "Class tests below:\n",
        "    - deletion (by index): passed\n",
        "    - insertion (list of Point instances): passed\n",
        "    - find (return index of element or len(container) if no element): passed\n",
        "    - contains (find on steroids): passed\n",
        "    - len (return number of elements in container): passed\n",
        "    - str: passed\n",
        "    - repr (some tech-info): passed\n",
        "    - getitem (by index): passed\n",
        "    - iter with next: passed"
      ]
    },
    {
      "cell_type": "code",
      "execution_count": 64,
      "metadata": {
        "trusted": true
      },
      "outputs": [],
      "source": [
        "# Init\n",
        "tr = AVLTree(Point(100, 120), Point(5, 5), Point(12, 60))"
      ]
    },
    {
      "cell_type": "code",
      "execution_count": 65,
      "metadata": {
        "trusted": true
      },
      "outputs": [
        {
          "name": "stdout",
          "output_type": "stream",
          "text": [
            "Class SecondContainer with 3 nodes.\n"
          ]
        },
        {
          "data": {
            "text/plain": [
              "[(2688, classic class representation: x=12 and y=60. wow), (60, classic class representation: x=5 and y=5. wow), (24430, classic class representation: x=100 and y=120. wow)]"
            ]
          },
          "execution_count": 65,
          "metadata": {},
          "output_type": "execute_result"
        }
      ],
      "source": [
        "# str() and representation\n",
        "print(str(tr))\n",
        "tr"
      ]
    },
    {
      "cell_type": "code",
      "execution_count": 66,
      "metadata": {
        "trusted": true
      },
      "outputs": [
        {
          "data": {
            "text/plain": [
              "3"
            ]
          },
          "execution_count": 66,
          "metadata": {},
          "output_type": "execute_result"
        }
      ],
      "source": [
        "# len\n",
        "len(tr)"
      ]
    },
    {
      "cell_type": "code",
      "execution_count": 67,
      "metadata": {
        "trusted": true
      },
      "outputs": [
        {
          "data": {
            "text/plain": [
              "(<__main__.Node at 0x2e73ec0>, __main__.Node)"
            ]
          },
          "execution_count": 67,
          "metadata": {},
          "output_type": "execute_result"
        }
      ],
      "source": [
        "# getitem\n",
        "tr[60], type(tr[60])"
      ]
    },
    {
      "cell_type": "code",
      "execution_count": 68,
      "metadata": {
        "trusted": true
      },
      "outputs": [
        {
          "name": "stdout",
          "output_type": "stream",
          "text": [
            "(2688, classic class representation: x=12 and y=60. wow)\n",
            "(60, classic class representation: x=5 and y=5. wow)\n",
            "(24430, classic class representation: x=100 and y=120. wow)\n"
          ]
        }
      ],
      "source": [
        "# iterator with next()\n",
        "tr_it = iter(tr)\n",
        "if tr_it is not None:\n",
        "    print(next(tr_it))\n",
        "    print(next(tr_it))\n",
        "    print(next(tr_it))"
      ]
    },
    {
      "cell_type": "code",
      "execution_count": 69,
      "metadata": {
        "trusted": true
      },
      "outputs": [
        {
          "data": {
            "text/plain": [
              "[(2688, classic class representation: x=12 and y=60. wow), (60, classic class representation: x=5 and y=5. wow), (24430, classic class representation: x=100 and y=120. wow), (4358, classic class representation: x=12 and y=80. wow)]"
            ]
          },
          "execution_count": 69,
          "metadata": {},
          "output_type": "execute_result"
        }
      ],
      "source": [
        "# insertion\n",
        "tr.insert(Point(12, 80))\n",
        "tr"
      ]
    },
    {
      "cell_type": "code",
      "execution_count": 70,
      "metadata": {
        "trusted": true
      },
      "outputs": [
        {
          "data": {
            "text/plain": [
              "[(2688, classic class representation: x=12 and y=60. wow), (60, classic class representation: x=5 and y=5. wow), (24430, classic class representation: x=100 and y=120. wow)]"
            ]
          },
          "execution_count": 70,
          "metadata": {},
          "output_type": "execute_result"
        }
      ],
      "source": [
        "# deletion\n",
        "del tr[gen_id(12, 80)]\n",
        "tr"
      ]
    },
    {
      "cell_type": "code",
      "execution_count": 71,
      "metadata": {
        "trusted": true
      },
      "outputs": [
        {
          "name": "stdout",
          "output_type": "stream",
          "text": [
            "find point in class: <__main__.Node object at 0x2b4b218>\n",
            "find point not in class: None\n",
            "len of class: 3\n",
            "___________________________\n",
            "contains (point in class): True\n",
            "contains (point not in class): False\n"
          ]
        }
      ],
      "source": [
        "# find and contains\n",
        "print(f'''\n",
        "find point in class: {tr.find(Point(12, 60))}\n",
        "find point not in class: {tr.find(Point(1021, 10))}\n",
        "len of class: {len(tr)}\n",
        "___________________________\n",
        "contains (point in class): {Point(12, 60) in tr}\n",
        "contains (point not in class): {Point(12123, 62012) in tr}\n",
        "'''.strip())"
      ]
    },
    {
      "cell_type": "code",
      "execution_count": 35,
      "metadata": {
        "trusted": true
      },
      "outputs": [],
      "source": [
        "import numpy as np"
      ]
    },
    {
      "cell_type": "code",
      "execution_count": 36,
      "metadata": {
        "trusted": true
      },
      "outputs": [],
      "source": [
        "import matplotlib.pyplot as plt"
      ]
    },
    {
      "cell_type": "code",
      "execution_count": 37,
      "metadata": {
        "trusted": true
      },
      "outputs": [],
      "source": [
        "import timeit\n",
        "import math\n",
        "import random"
      ]
    },
    {
      "cell_type": "code",
      "execution_count": 62,
      "metadata": {
        "trusted": true
      },
      "outputs": [],
      "source": [
        "plt.rcParams['figure.figsize'] = [10, 6]\n",
        "\n",
        "def perform_bench(type_of_bench):\n",
        "    if type_of_bench == 'insert':\n",
        "        ns = np.linspace(0, 100_000, 100, dtype=int)\n",
        "        ts = [timeit.timeit('tr.insert([Point({}, {})])'.format(n, n + 1), \n",
        "                            setup='tr = AVLTree([Point(i, i + 1) for i in range({})])'.format(n),\n",
        "                            globals=globals(),\n",
        "                            number=2000)\n",
        "          for n in ns]\n",
        "    elif type_of_bench == 'delete':\n",
        "        ns = np.linspace(0, 100_000, 10, dtype=int)\n",
        "        ts = [timeit.timeit('tr.delete_value(gen_id(Point({}, {}).x, Point({}, {}).y))'.format(n - 2, n - 1, n - 2, n - 1), \n",
        "                            setup='tr = AVLTree([Point(i, i + 1) for i in range({})])'.format(n),\n",
        "                            globals=globals(),\n",
        "                            number=1000)\n",
        "          for n in ns]\n",
        "    elif type_of_bench == 'find':\n",
        "        ns = np.linspace(0, 100_000, 10, dtype=int)\n",
        "        ts = [timeit.timeit('tr.find(gen_id(0, 1))'.format(''), \n",
        "                            setup='tr = AVLTree([Point(i, i + 1) for i in range({})])'.format(n),\n",
        "                            globals=globals(),\n",
        "                            number=1000)\n",
        "          for n in ns]\n",
        "    elif type_of_bench == 'contains':\n",
        "        ns = np.linspace(0, 100_000, 10, dtype=int)\n",
        "        ts = [timeit.timeit('Point(0, 1) in tr'.format(''), \n",
        "                            setup='tr = AVLTree([Point(i, i + 1) for i in range({})])'.format(n),\n",
        "                            globals=globals(),\n",
        "                            number=1000)\n",
        "          for n in ns]\n",
        "    \n",
        "    plt.plot(ns, ts, 'or')\n",
        "    \n",
        "    degree = 4\n",
        "    coeffs = np.polyfit(ns, ts, degree)\n",
        "    p = np.poly1d(coeffs)\n",
        "    plt.plot(ns, [p(n) for n in ns], '-b')"
      ]
    },
    {
      "cell_type": "code",
      "execution_count": 63,
      "metadata": {
        "trusted": true
      },
      "outputs": [
        {
          "data": {
            "image/png": "[encoded data removed]",
            "text/plain": [
              "<Figure size 1000x600 with 1 Axes>"
            ]
          },
          "metadata": {},
          "output_type": "display_data"
        }
      ],
      "source": [
        "perform_bench('insert')"
      ]
    },
    {
      "cell_type": "code",
      "execution_count": 2,
      "metadata": {
        "trusted": true
      },
      "outputs": [
        {
          "ename": "NameError",
          "evalue": "name 'perform_bench' is not defined",
          "output_type": "error",
          "traceback": [
            "\u001b[1;31m---------------------------------------------------------------------------\u001b[0m",
            "\u001b[1;31mNameError\u001b[0m                                 Traceback (most recent call last)",
            "Cell \u001b[1;32mIn[2], line 1\u001b[0m\n\u001b[1;32m----> 1\u001b[0m \u001b[43mperform_bench\u001b[49m(\u001b[38;5;124m'\u001b[39m\u001b[38;5;124mfind\u001b[39m\u001b[38;5;124m'\u001b[39m)\n",
            "\u001b[1;31mNameError\u001b[0m: name 'perform_bench' is not defined"
          ]
        }
      ],
      "source": [
        "perform_bench('find')"
      ]
    },
    {
      "cell_type": "code",
      "execution_count": 46,
      "metadata": {
        "trusted": true
      },
      "outputs": [
        {
          "data": {
            "image/png": "[encoded data removed]",
            "text/plain": [
              "<Figure size 1000x600 with 1 Axes>"
            ]
          },
          "metadata": {},
          "output_type": "display_data"
        }
      ],
      "source": [
        "perform_bench('contains')"
      ]
    },
    {
      "cell_type": "code",
      "execution_count": 47,
      "metadata": {
        "trusted": true
      },
      "outputs": [
        {
          "data": {
            "image/png": "[encoded data removed]",
            "text/plain": [
              "<Figure size 1000x600 with 1 Axes>"
            ]
          },
          "metadata": {},
          "output_type": "display_data"
        }
      ],
      "source": [
        "perform_bench('delete')"
      ]
    }
  ],
  "metadata": {
    "kernelspec": {
      "display_name": "Python 3",
      "language": "python",
      "name": "python3"
    },
    "language_info": {
      "codemirror_mode": {
        "name": "ipython",
        "version": 3
      },
      "file_extension": ".py",
      "mimetype": "text/x-python",
      "name": "python",
      "nbconvert_exporter": "python",
      "pygments_lexer": "ipython3",
      "version": "3.12.3"
    }
  },
  "nbformat": 4,
  "nbformat_minor": 4
}
