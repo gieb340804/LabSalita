{
 "cells": [
  {
   "cell_type": "markdown",
   "metadata": {},
   "source": [
    "## Лабораторная работа 6.\n",
    " Алгоритмы поиска и вставки элементов при последовательном хранении\n",
    "\n",
    "1. Создайте изменяемый класс-контейнер для последовательного хранения данных произвольного типа. Он должен представлять собой класс, представляющий собой \"обертку\" над списком list. В открытой части класса должны по крайней мере присутствовать:"
   ]
  },
  {
   "cell_type": "code",
   "execution_count": 4,
   "metadata": {},
   "outputs": [
    {
     "name": "stdout",
     "output_type": "stream",
     "text": [
      "[1, 2, 3, 4, 5]\n",
      "5\n",
      "3\n",
      "True\n",
      "[1, 2, 6, 3, 4, 5]\n",
      "3\n",
      "[1, 2, 3, 4, 5]\n"
     ]
    }
   ],
   "source": [
    "class SequentialContainer:\n",
    "    def __init__(self, elements=[]):\n",
    "        self._data = list(elements)\n",
    "\n",
    "    def __repr__(self):\n",
    "        return repr(self._data)\n",
    "\n",
    "    def __str__(self):\n",
    "        return str(self._data)\n",
    "\n",
    "    def __len__(self):\n",
    "        return len(self._data)\n",
    "\n",
    "    def __getitem__(self, index):\n",
    "        return self._data[index]\n",
    "\n",
    "    def __iter__(self):\n",
    "        return iter(self._data)\n",
    "\n",
    "    def __contains__(self, item):\n",
    "        return item in self._data\n",
    "\n",
    "    def insert(self, index, value):\n",
    "        self._data.insert(index, value)\n",
    "\n",
    "    def find(self, value):\n",
    "        try:\n",
    "            return self._data.index(value)\n",
    "        except ValueError:\n",
    "            return len(self._data)\n",
    "\n",
    "    def __delitem__(self, index):\n",
    "        del self._data[index]\n",
    "\n",
    "# Пример использования класса\n",
    "container = SequentialContainer([1, 2, 3, 4, 5])\n",
    "print(container)  # Вывод: [1, 2, 3, 4, 5]\n",
    "print(len(container))  # Вывод: 5\n",
    "print(container[2])  # Вывод: 3\n",
    "print(6 in container)  # Вывод: False\n",
    "container.insert(2, 6)\n",
    "print(container)  # Вывод: [1, 2, 6, 3, 4, 5]\n",
    "print(container.find(3))  # Вывод: 3\n",
    "del container[2]\n",
    "print(container)  # Вывод: [1, 2, 3, 4, 5]"
   ]
  },
  {
   "cell_type": "markdown",
   "metadata": {},
   "source": [
    "1. конструктор __init__, позволяющий создавать экземпляр контейнера на основе входного списка элементов;"
   ]
  },
  {
   "cell_type": "code",
   "execution_count": 16,
   "metadata": {},
   "outputs": [
    {
     "name": "stdout",
     "output_type": "stream",
     "text": [
      "[1, 2, 3]\n"
     ]
    }
   ],
   "source": [
    "class contener:\n",
    "    def __init__(self, data):\n",
    "        self.street = data\n",
    "\n",
    "    # def __repr__(self):\n",
    "    #     return repr(self.street)\n",
    "    \n",
    "    # def __str__(self) -> str:\n",
    "    #     pass\n",
    "\n",
    "    def __str__(self):\n",
    "        return str(self.street)\n",
    "\n",
    "if __name__ == \"__main__\":\n",
    "    h1 = contener([1, 2, 3])\n",
    "    print(h1)"
   ]
  }
 ],
 "metadata": {
  "kernelspec": {
   "display_name": "Python 3",
   "language": "python",
   "name": "python3"
  },
  "language_info": {
   "codemirror_mode": {
    "name": "ipython",
    "version": 3
   },
   "file_extension": ".py",
   "mimetype": "text/x-python",
   "name": "python",
   "nbconvert_exporter": "python",
   "pygments_lexer": "ipython3",
   "version": "3.11.6"
  }
 },
 "nbformat": 4,
 "nbformat_minor": 2
}
