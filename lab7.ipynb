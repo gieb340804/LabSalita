{
 "cells": [
  {
   "cell_type": "markdown",
   "metadata": {},
   "source": [
    "## Лабораторная работа 6.\n",
    " Алгоритмы поиска и вставки элементов при последовательном хранении\n",
    "\n",
    "1. Создайте изменяемый класс-контейнер для последовательного хранения данных произвольного типа. Он должен представлять собой класс, представляющий собой \"обертку\" над списком list. В открытой части класса должны по крайней мере присутствовать:"
   ]
  },
  {
   "cell_type": "code",
   "execution_count": 4,
   "metadata": {},
   "outputs": [
    {
     "name": "stdout",
     "output_type": "stream",
     "text": [
      "[1, 2, 3, 4, 5]\n",
      "5\n",
      "3\n",
      "True\n",
      "[1, 2, 6, 3, 4, 5]\n",
      "3\n",
      "[1, 2, 3, 4, 5]\n"
     ]
    }
   ],
   "source": [
    "class SequentialContainer:\n",
    "    def __init__(self, elements=[]):\n",
    "        self._data = list(elements)\n",
    "\n",
    "    def __repr__(self):\n",
    "        return repr(self._data)\n",
    "\n",
    "    def __str__(self):\n",
    "        return str(self._data)\n",
    "\n",
    "    def __len__(self):\n",
    "        return len(self._data)\n",
    "\n",
    "    def __getitem__(self, index):\n",
    "        return self._data[index]\n",
    "\n",
    "    def __iter__(self):\n",
    "        return iter(self._data)\n",
    "\n",
    "    def __contains__(self, item):\n",
    "        return item in self._data\n",
    "\n",
    "    def insert(self, index, value):\n",
    "        self._data.insert(index, value)\n",
    "\n",
    "    def find(self, value):\n",
    "        try:\n",
    "            return self._data.index(value)\n",
    "        except ValueError:\n",
    "            return len(self._data)\n",
    "\n",
    "    def __delitem__(self, index):\n",
    "        del self._data[index]\n",
    "\n",
    "# Пример использования класса\n",
    "container = SequentialContainer([1, 2, 3, 4, 5])\n",
    "print(container)  # Вывод: [1, 2, 3, 4, 5]\n",
    "print(len(container))  # Вывод: 5\n",
    "print(container[2])  # Вывод: 3\n",
    "print(6 in container)  # Вывод: False\n",
    "container.insert(2, 6)\n",
    "print(container)  # Вывод: [1, 2, 6, 3, 4, 5]\n",
    "print(container.find(3))  # Вывод: 3\n",
    "del container[2]\n",
    "print(container)  # Вывод: [1, 2, 3, 4, 5]"
   ]
  },
  {
   "cell_type": "markdown",
   "metadata": {},
   "source": [
    "1. конструктор __init__, позволяющий создавать экземпляр контейнера на основе входного списка элементов;"
   ]
  },
  {
   "cell_type": "code",
   "execution_count": 16,
   "metadata": {},
   "outputs": [
    {
     "name": "stdout",
     "output_type": "stream",
     "text": [
      "[1, 2, 3]\n"
     ]
    }
   ],
   "source": [
    "class contener:\n",
    "    def __init__(self, data):\n",
    "        self.street = data\n",
    "\n",
    "    # def __repr__(self):\n",
    "    #     return repr(self.street)\n",
    "    \n",
    "    # def __str__(self) -> str:\n",
    "    #     pass\n",
    "\n",
    "    def __str__(self):\n",
    "        return str(self.street)\n",
    "\n",
    "if __name__ == \"__main__\":\n",
    "    h1 = contener([1, 2, 3])\n",
    "    print(h1)"
   ]
  },
  {
   "cell_type": "code",
   "execution_count": 1,
   "metadata": {},
   "outputs": [
    {
     "name": "stdout",
     "output_type": "stream",
     "text": [
      "[3, 1, 4, 1, 5]\n",
      "True\n",
      "2\n"
     ]
    }
   ],
   "source": [
    "class ListContainer:\n",
    "    def __init__(self, initial_data=None):\n",
    "        self._data = list(initial_data) if initial_data is not None else []\n",
    "\n",
    "    def __repr__(self):\n",
    "        return f\"{self.__class__.__name__}({self._data})\"\n",
    "\n",
    "    def __str__(self):\n",
    "        return str(self._data)\n",
    "\n",
    "    def __len__(self):\n",
    "        return len(self._data)\n",
    "\n",
    "    def __getitem__(self, index):\n",
    "        if index < 0 or index >= len(self._data):\n",
    "            raise IndexError('Index out of range')\n",
    "        return self._data[index]\n",
    "\n",
    "    def __iter__(self):\n",
    "        return iter(self._data)\n",
    "\n",
    "    def __contains__(self, item):\n",
    "        # Бинарный поиск для O(log n) сложности\n",
    "        left, right = 0, len(self._data) - 1\n",
    "        while left <= right:\n",
    "            mid = (left + right) // 2\n",
    "            if self._data[mid] == item:\n",
    "                return True\n",
    "            elif self._data[mid] < item:\n",
    "                left = mid + 1\n",
    "            else:\n",
    "                right = mid - 1\n",
    "        return False\n",
    "\n",
    "    def insert(self, item):\n",
    "        # Вставка с O(n) сложностью\n",
    "        self._data.append(item)\n",
    "        self._data.sort()\n",
    "\n",
    "    def find(self, item):\n",
    "        # Бинарный поиск для O(log n) сложности\n",
    "        left, right = 0, len(self._data) - 1\n",
    "        while left <= right:\n",
    "            mid = (left + right) // 2\n",
    "            if self._data[mid] == item:\n",
    "                return mid\n",
    "            elif self._data[mid] < item:\n",
    "                left = mid + 1\n",
    "            else:\n",
    "                right = mid - 1\n",
    "        return len(self._data)\n",
    "\n",
    "    def delitem(self, index):\n",
    "        # Удаление с O(n) сложностью\n",
    "        if index < 0 or index >= len(self._data):\n",
    "            raise IndexError('Index out of range')\n",
    "        del self._data[index]\n",
    "\n",
    "# Пример использования\n",
    "container = ListContainer([3, 1, 4, 1, 5])\n",
    "print(container)  # Выводит содержимое контейнера\n",
    "print(3 in container)  # Проверяет наличие элемента\n",
    "print(container.find(4))  # Находит индекс элемента\n",
    "container.insert(2)  # Вставляет элемент\n",
    "container.delitem(2)  # Удаляет элемент по индексу\n"
   ]
  },
  {
   "cell_type": "markdown",
   "metadata": {},
   "source": [
    "1. Создайте изменяемый класс-контейнер для последовательного хранения данных произвольного типа. Он должен представлять собой класс, представляющий собой \"обертку\" над списком list. В открытой части класса должны по крайней мере присутствовать:\n",
    "\n",
    "конструктор __init__, позволяющий создавать экземпляр контейнера на основе входного списка элементов;\n",
    "методы для представления хранимых данных строкой __repr__ и __str__;\n",
    "метод __len__, возвращающий число хранимых элементов;\n",
    "методы для доступа к элементам контейнера на чтение (__getitem__), доступ для записи по индексу нужно закрыть;\n",
    "метод для итерирования по элементам контейнера, возвращающий объект-итератор (__iter__);\n",
    "метод для проверки наличия конкретного элемента в контейнере (__contains__);\n",
    "метод для вставки нового элемента в контейнер insert;\n",
    "метод для поиска элемента по значению find, возвращающий в качестве результата индекс элемента (в диапазоне от 0 до len()-1)), если таковой присутствует в контейнере, или значение len() при его отсутствии;\n",
    "метод удаления элемента по индексу __delitem__.\n",
    "При реализации методов insert, find, __contains__, __delitem__ следует учесть, что они (в среднем) должны работать со следующей асимптотической сложностью по времени:\n",
    "\n",
    "insert - T(n)=O(n)\n",
    "\n",
    "find и __contains__ - T(n)=O(logn)\n",
    "\n",
    "__delitem__ - T(n)=O(n)"
   ]
  },
  {
   "cell_type": "code",
   "execution_count": 1,
   "metadata": {},
   "outputs": [
    {
     "name": "stdout",
     "output_type": "stream",
     "text": [
      "[1, 1, 3, 4, 5]\n",
      "True\n",
      "2\n"
     ]
    }
   ],
   "source": [
    "from bisect import bisect_left\n",
    "\n",
    "class MyContainer:\n",
    "    def __init__(self, data=None):\n",
    "        self._data = sorted(data) if data is not None else []\n",
    "\n",
    "    def __repr__(self):\n",
    "        return f\"{self.__class__.__name__}({self._data})\"\n",
    "\n",
    "    def __str__(self):\n",
    "        return str(self._data)\n",
    "\n",
    "    def __len__(self):\n",
    "        return len(self._data)\n",
    "\n",
    "    def __getitem__(self, index):\n",
    "        return self._data[index]\n",
    "\n",
    "    def __iter__(self):\n",
    "        return iter(self._data)\n",
    "\n",
    "    def __contains__(self, item):\n",
    "        # Используем бинарный поиск для O(log n) сложности\n",
    "        index = bisect_left(self._data, item)\n",
    "        return index != len(self._data) and self._data[index] == item\n",
    "\n",
    "    def insert(self, item):\n",
    "        # Вставка с сохранением упорядоченности списка\n",
    "        self._data.append(item)\n",
    "        self._data.sort()\n",
    "\n",
    "    def find(self, item):\n",
    "        # Бинарный поиск для O(log n) сложности\n",
    "        index = bisect_left(self._data, item)\n",
    "        return index if index != len(self._data) and self._data[index] == item else len(self._data)\n",
    "\n",
    "    def __delitem__(self, index):\n",
    "        del self._data[index]\n",
    "\n",
    "# Пример использования\n",
    "container = MyContainer([3, 1, 4, 1, 5])\n",
    "print(container)  # Выведет упорядоченный список\n",
    "print(3 in container)  # Проверит наличие элемента\n",
    "container.insert(2)\n",
    "print(container.find(2))  # Найдет элемент\n",
    "del container[2]  # Удалит элемент по индексу\n"
   ]
  },
  {
   "cell_type": "markdown",
   "metadata": {},
   "source": [
    "Этот класс использует бинарный поиск (через модуль bisect), чтобы обеспечить асимптотическую сложность O(log n) для операций find и __contains__. Метод insert сначала добавляет элемент в конец, а затем сортирует список, что в среднем дает сложность O(n log n), но если предположить, что вставка происходит в уже отсортированный список, то сложность будет O(n), так как потребуется только один проход для вставки на правильное место. Метод __delitem__ имеет сложность O(n), так как после удаления элемента может потребоваться сдвиг оставшихся элементов списка."
   ]
  },
  {
   "cell_type": "code",
   "execution_count": 9,
   "metadata": {},
   "outputs": [
    {
     "ename": "ValueError",
     "evalue": "x and y must have same first dimension, but have shapes (140100,) and (5010,)",
     "output_type": "error",
     "traceback": [
      "\u001b[1;31m---------------------------------------------------------------------------\u001b[0m",
      "\u001b[1;31mValueError\u001b[0m                                Traceback (most recent call last)",
      "Cell \u001b[1;32mIn[9], line 29\u001b[0m\n\u001b[0;32m     26\u001b[0m     times\u001b[38;5;241m.\u001b[39mappend(t)\n\u001b[0;32m     28\u001b[0m \u001b[38;5;66;03m# Построение графика\u001b[39;00m\n\u001b[1;32m---> 29\u001b[0m \u001b[43mplt\u001b[49m\u001b[38;5;241;43m.\u001b[39;49m\u001b[43mplot\u001b[49m\u001b[43m(\u001b[49m\u001b[38;5;28;43mrange\u001b[39;49m\u001b[43m(\u001b[49m\u001b[38;5;241;43m10000\u001b[39;49m\u001b[43m,\u001b[49m\u001b[43m \u001b[49m\u001b[38;5;241;43m150100\u001b[39;49m\u001b[43m)\u001b[49m\u001b[43m,\u001b[49m\u001b[43m \u001b[49m\u001b[43mtimes\u001b[49m\u001b[43m,\u001b[49m\u001b[43m \u001b[49m\u001b[43mmarker\u001b[49m\u001b[38;5;241;43m=\u001b[39;49m\u001b[38;5;124;43m'\u001b[39;49m\u001b[38;5;124;43mo\u001b[39;49m\u001b[38;5;124;43m'\u001b[39;49m\u001b[43m)\u001b[49m\n\u001b[0;32m     30\u001b[0m plt\u001b[38;5;241m.\u001b[39mtitle(\u001b[38;5;124m'\u001b[39m\u001b[38;5;124mВремя выполнения операции __contains__\u001b[39m\u001b[38;5;124m'\u001b[39m)\n\u001b[0;32m     31\u001b[0m plt\u001b[38;5;241m.\u001b[39mxlabel(\u001b[38;5;124m'\u001b[39m\u001b[38;5;124mЧисло\u001b[39m\u001b[38;5;124m'\u001b[39m)\n",
      "File \u001b[1;32mc:\\Users\\FSB\\AppData\\Local\\Programs\\Python\\Python312\\Lib\\site-packages\\matplotlib\\pyplot.py:3708\u001b[0m, in \u001b[0;36mplot\u001b[1;34m(scalex, scaley, data, *args, **kwargs)\u001b[0m\n\u001b[0;32m   3700\u001b[0m \u001b[38;5;129m@_copy_docstring_and_deprecators\u001b[39m(Axes\u001b[38;5;241m.\u001b[39mplot)\n\u001b[0;32m   3701\u001b[0m \u001b[38;5;28;01mdef\u001b[39;00m \u001b[38;5;21mplot\u001b[39m(\n\u001b[0;32m   3702\u001b[0m     \u001b[38;5;241m*\u001b[39margs: \u001b[38;5;28mfloat\u001b[39m \u001b[38;5;241m|\u001b[39m ArrayLike \u001b[38;5;241m|\u001b[39m \u001b[38;5;28mstr\u001b[39m,\n\u001b[1;32m   (...)\u001b[0m\n\u001b[0;32m   3706\u001b[0m     \u001b[38;5;241m*\u001b[39m\u001b[38;5;241m*\u001b[39mkwargs,\n\u001b[0;32m   3707\u001b[0m ) \u001b[38;5;241m-\u001b[39m\u001b[38;5;241m>\u001b[39m \u001b[38;5;28mlist\u001b[39m[Line2D]:\n\u001b[1;32m-> 3708\u001b[0m     \u001b[38;5;28;01mreturn\u001b[39;00m \u001b[43mgca\u001b[49m\u001b[43m(\u001b[49m\u001b[43m)\u001b[49m\u001b[38;5;241;43m.\u001b[39;49m\u001b[43mplot\u001b[49m\u001b[43m(\u001b[49m\n\u001b[0;32m   3709\u001b[0m \u001b[43m        \u001b[49m\u001b[38;5;241;43m*\u001b[39;49m\u001b[43margs\u001b[49m\u001b[43m,\u001b[49m\n\u001b[0;32m   3710\u001b[0m \u001b[43m        \u001b[49m\u001b[43mscalex\u001b[49m\u001b[38;5;241;43m=\u001b[39;49m\u001b[43mscalex\u001b[49m\u001b[43m,\u001b[49m\n\u001b[0;32m   3711\u001b[0m \u001b[43m        \u001b[49m\u001b[43mscaley\u001b[49m\u001b[38;5;241;43m=\u001b[39;49m\u001b[43mscaley\u001b[49m\u001b[43m,\u001b[49m\n\u001b[0;32m   3712\u001b[0m \u001b[43m        \u001b[49m\u001b[38;5;241;43m*\u001b[39;49m\u001b[38;5;241;43m*\u001b[39;49m\u001b[43m(\u001b[49m\u001b[43m{\u001b[49m\u001b[38;5;124;43m\"\u001b[39;49m\u001b[38;5;124;43mdata\u001b[39;49m\u001b[38;5;124;43m\"\u001b[39;49m\u001b[43m:\u001b[49m\u001b[43m \u001b[49m\u001b[43mdata\u001b[49m\u001b[43m}\u001b[49m\u001b[43m \u001b[49m\u001b[38;5;28;43;01mif\u001b[39;49;00m\u001b[43m \u001b[49m\u001b[43mdata\u001b[49m\u001b[43m \u001b[49m\u001b[38;5;129;43;01mis\u001b[39;49;00m\u001b[43m \u001b[49m\u001b[38;5;129;43;01mnot\u001b[39;49;00m\u001b[43m \u001b[49m\u001b[38;5;28;43;01mNone\u001b[39;49;00m\u001b[43m \u001b[49m\u001b[38;5;28;43;01melse\u001b[39;49;00m\u001b[43m \u001b[49m\u001b[43m{\u001b[49m\u001b[43m}\u001b[49m\u001b[43m)\u001b[49m\u001b[43m,\u001b[49m\n\u001b[0;32m   3713\u001b[0m \u001b[43m        \u001b[49m\u001b[38;5;241;43m*\u001b[39;49m\u001b[38;5;241;43m*\u001b[39;49m\u001b[43mkwargs\u001b[49m\u001b[43m,\u001b[49m\n\u001b[0;32m   3714\u001b[0m \u001b[43m    \u001b[49m\u001b[43m)\u001b[49m\n",
      "File \u001b[1;32mc:\\Users\\FSB\\AppData\\Local\\Programs\\Python\\Python312\\Lib\\site-packages\\matplotlib\\axes\\_axes.py:1779\u001b[0m, in \u001b[0;36mAxes.plot\u001b[1;34m(self, scalex, scaley, data, *args, **kwargs)\u001b[0m\n\u001b[0;32m   1536\u001b[0m \u001b[38;5;250m\u001b[39m\u001b[38;5;124;03m\"\"\"\u001b[39;00m\n\u001b[0;32m   1537\u001b[0m \u001b[38;5;124;03mPlot y versus x as lines and/or markers.\u001b[39;00m\n\u001b[0;32m   1538\u001b[0m \n\u001b[1;32m   (...)\u001b[0m\n\u001b[0;32m   1776\u001b[0m \u001b[38;5;124;03m(``'green'``) or hex strings (``'#008000'``).\u001b[39;00m\n\u001b[0;32m   1777\u001b[0m \u001b[38;5;124;03m\"\"\"\u001b[39;00m\n\u001b[0;32m   1778\u001b[0m kwargs \u001b[38;5;241m=\u001b[39m cbook\u001b[38;5;241m.\u001b[39mnormalize_kwargs(kwargs, mlines\u001b[38;5;241m.\u001b[39mLine2D)\n\u001b[1;32m-> 1779\u001b[0m lines \u001b[38;5;241m=\u001b[39m [\u001b[38;5;241m*\u001b[39m\u001b[38;5;28mself\u001b[39m\u001b[38;5;241m.\u001b[39m_get_lines(\u001b[38;5;28mself\u001b[39m, \u001b[38;5;241m*\u001b[39margs, data\u001b[38;5;241m=\u001b[39mdata, \u001b[38;5;241m*\u001b[39m\u001b[38;5;241m*\u001b[39mkwargs)]\n\u001b[0;32m   1780\u001b[0m \u001b[38;5;28;01mfor\u001b[39;00m line \u001b[38;5;129;01min\u001b[39;00m lines:\n\u001b[0;32m   1781\u001b[0m     \u001b[38;5;28mself\u001b[39m\u001b[38;5;241m.\u001b[39madd_line(line)\n",
      "File \u001b[1;32mc:\\Users\\FSB\\AppData\\Local\\Programs\\Python\\Python312\\Lib\\site-packages\\matplotlib\\axes\\_base.py:296\u001b[0m, in \u001b[0;36m_process_plot_var_args.__call__\u001b[1;34m(self, axes, data, *args, **kwargs)\u001b[0m\n\u001b[0;32m    294\u001b[0m     this \u001b[38;5;241m+\u001b[39m\u001b[38;5;241m=\u001b[39m args[\u001b[38;5;241m0\u001b[39m],\n\u001b[0;32m    295\u001b[0m     args \u001b[38;5;241m=\u001b[39m args[\u001b[38;5;241m1\u001b[39m:]\n\u001b[1;32m--> 296\u001b[0m \u001b[38;5;28;01myield from\u001b[39;00m \u001b[38;5;28;43mself\u001b[39;49m\u001b[38;5;241;43m.\u001b[39;49m\u001b[43m_plot_args\u001b[49m\u001b[43m(\u001b[49m\n\u001b[0;32m    297\u001b[0m \u001b[43m    \u001b[49m\u001b[43maxes\u001b[49m\u001b[43m,\u001b[49m\u001b[43m \u001b[49m\u001b[43mthis\u001b[49m\u001b[43m,\u001b[49m\u001b[43m \u001b[49m\u001b[43mkwargs\u001b[49m\u001b[43m,\u001b[49m\u001b[43m \u001b[49m\u001b[43mambiguous_fmt_datakey\u001b[49m\u001b[38;5;241;43m=\u001b[39;49m\u001b[43mambiguous_fmt_datakey\u001b[49m\u001b[43m)\u001b[49m\n",
      "File \u001b[1;32mc:\\Users\\FSB\\AppData\\Local\\Programs\\Python\\Python312\\Lib\\site-packages\\matplotlib\\axes\\_base.py:486\u001b[0m, in \u001b[0;36m_process_plot_var_args._plot_args\u001b[1;34m(self, axes, tup, kwargs, return_kwargs, ambiguous_fmt_datakey)\u001b[0m\n\u001b[0;32m    483\u001b[0m     axes\u001b[38;5;241m.\u001b[39myaxis\u001b[38;5;241m.\u001b[39mupdate_units(y)\n\u001b[0;32m    485\u001b[0m \u001b[38;5;28;01mif\u001b[39;00m x\u001b[38;5;241m.\u001b[39mshape[\u001b[38;5;241m0\u001b[39m] \u001b[38;5;241m!=\u001b[39m y\u001b[38;5;241m.\u001b[39mshape[\u001b[38;5;241m0\u001b[39m]:\n\u001b[1;32m--> 486\u001b[0m     \u001b[38;5;28;01mraise\u001b[39;00m \u001b[38;5;167;01mValueError\u001b[39;00m(\u001b[38;5;124mf\u001b[39m\u001b[38;5;124m\"\u001b[39m\u001b[38;5;124mx and y must have same first dimension, but \u001b[39m\u001b[38;5;124m\"\u001b[39m\n\u001b[0;32m    487\u001b[0m                      \u001b[38;5;124mf\u001b[39m\u001b[38;5;124m\"\u001b[39m\u001b[38;5;124mhave shapes \u001b[39m\u001b[38;5;132;01m{\u001b[39;00mx\u001b[38;5;241m.\u001b[39mshape\u001b[38;5;132;01m}\u001b[39;00m\u001b[38;5;124m and \u001b[39m\u001b[38;5;132;01m{\u001b[39;00my\u001b[38;5;241m.\u001b[39mshape\u001b[38;5;132;01m}\u001b[39;00m\u001b[38;5;124m\"\u001b[39m)\n\u001b[0;32m    488\u001b[0m \u001b[38;5;28;01mif\u001b[39;00m x\u001b[38;5;241m.\u001b[39mndim \u001b[38;5;241m>\u001b[39m \u001b[38;5;241m2\u001b[39m \u001b[38;5;129;01mor\u001b[39;00m y\u001b[38;5;241m.\u001b[39mndim \u001b[38;5;241m>\u001b[39m \u001b[38;5;241m2\u001b[39m:\n\u001b[0;32m    489\u001b[0m     \u001b[38;5;28;01mraise\u001b[39;00m \u001b[38;5;167;01mValueError\u001b[39;00m(\u001b[38;5;124mf\u001b[39m\u001b[38;5;124m\"\u001b[39m\u001b[38;5;124mx and y can be no greater than 2D, but have \u001b[39m\u001b[38;5;124m\"\u001b[39m\n\u001b[0;32m    490\u001b[0m                      \u001b[38;5;124mf\u001b[39m\u001b[38;5;124m\"\u001b[39m\u001b[38;5;124mshapes \u001b[39m\u001b[38;5;132;01m{\u001b[39;00mx\u001b[38;5;241m.\u001b[39mshape\u001b[38;5;132;01m}\u001b[39;00m\u001b[38;5;124m and \u001b[39m\u001b[38;5;132;01m{\u001b[39;00my\u001b[38;5;241m.\u001b[39mshape\u001b[38;5;132;01m}\u001b[39;00m\u001b[38;5;124m\"\u001b[39m)\n",
      "\u001b[1;31mValueError\u001b[0m: x and y must have same first dimension, but have shapes (140100,) and (5010,)"
     ]
    },
    {
     "data": {
      "image/png": "[encoded data removed]",
      "text/plain": [
       "<Figure size 640x480 with 1 Axes>"
      ]
     },
     "metadata": {},
     "output_type": "display_data"
    }
   ],
   "source": [
    "import bisect\n",
    "import random\n",
    "import timeit\n",
    "import matplotlib.pyplot as plt\n",
    "\n",
    "class SortedContainer:\n",
    "    def __init__(self):\n",
    "        self.data = []\n",
    "\n",
    "    def add(self, item):\n",
    "        bisect.insort(self.data, item)\n",
    "\n",
    "    def __contains__(self, item):\n",
    "        index = bisect.bisect_left(self.data, item)\n",
    "        return index != len(self.data) and self.data[index] == item\n",
    "\n",
    "# Генерация случайных чисел и добавление их в контейнер\n",
    "container = SortedContainer()\n",
    "for _ in range(10000, 15010):\n",
    "    container.add(random.randint(10000, 15000))\n",
    "\n",
    "# Измерение времени выполнения операции __contains__\n",
    "times = []\n",
    "for number in range(10000, 15010):\n",
    "    t = timeit.timeit(lambda: number in container, number=100)\n",
    "    times.append(t)\n",
    "\n",
    "# Построение графика\n",
    "plt.plot(range(10000, 150100), times, marker='o')\n",
    "plt.title('Время выполнения операции __contains__')\n",
    "plt.xlabel('Число')\n",
    "plt.ylabel('Время выполнения (секунды)')\n",
    "plt.show()"
   ]
  },
  {
   "cell_type": "code",
   "execution_count": 19,
   "metadata": {},
   "outputs": [
    {
     "data": {
      "image/png": "[encoded data removed]",
      "text/plain": [
       "<Figure size 640x480 with 1 Axes>"
      ]
     },
     "metadata": {},
     "output_type": "display_data"
    }
   ],
   "source": [
    "import timeit\n",
    "import numpy as np\n",
    "import matplotlib.pyplot as plt\n",
    "import random\n",
    "\n",
    "class Container:\n",
    "    def __init__(self, size):\n",
    "        self.data = sorted(random.sample(range(size * 2), size))\n",
    "\n",
    "    def __getitem__(self, index):\n",
    "        return self.data[index]\n",
    "\n",
    "    def find(self, target):\n",
    "        left, right = 0, len(self.data) - 1\n",
    "        while left <= right:\n",
    "            mid = (left + right) // 2\n",
    "            if self.data[mid] == target:\n",
    "                return mid\n",
    "            elif self.data[mid] < target:\n",
    "                left = mid + 1\n",
    "            else:\n",
    "                right = mid - 1\n",
    "        return -1\n",
    "    \n",
    "    \n",
    "\n",
    "def time_find(container, target):\n",
    "    timer = timeit.Timer(lambda: container.find(target))\n",
    "    return timer.timeit(number=100)\n",
    "\n",
    "if __name__ == \"__main__\":\n",
    "    sizes = np.arange(10000, 1100000, 100000)\n",
    "    times = []\n",
    "\n",
    "    for size in sizes:\n",
    "        container = Container(size)\n",
    "        # Гарантируем, что цель присутствует в данных\n",
    "        target = random.choice(container.data)\n",
    "        time = time_find(container, target)\n",
    "        times.append(time)\n",
    "\n",
    "    times = np.array(times)\n",
    "\n",
    "    plt.errorbar(sizes, times, yerr=np.std(times, ddof=1), fmt='o-')\n",
    "    plt.xlabel('Размер контейнера')\n",
    "    plt.ylabel('Время (с)')\n",
    "    plt.title('Время нахождения случайного элемента в отсортированном контейнере')\n",
    "    plt.show()"
   ]
  }
 ],
 "metadata": {
  "kernelspec": {
   "display_name": "Python 3",
   "language": "python",
   "name": "python3"
  },
  "language_info": {
   "codemirror_mode": {
    "name": "ipython",
    "version": 3
   },
   "file_extension": ".py",
   "mimetype": "text/x-python",
   "name": "python",
   "nbconvert_exporter": "python",
   "pygments_lexer": "ipython3",
   "version": "3.12.3"
  }
 },
 "nbformat": 4,
 "nbformat_minor": 2
}
